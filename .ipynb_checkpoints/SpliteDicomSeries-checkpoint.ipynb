{
 "cells": [
  {
   "cell_type": "markdown",
   "metadata": {},
   "source": [
    "# 将从医生那里拿到的DICOM序列拆分成不同文件夹\n",
    "## 所有*_all_*的函数都遍历下述的结构\n",
    "- dir_name\n",
    "    - parent_id\n",
    "        - check_id\n",
    "            - NC\n",
    "            - ART\n",
    "            - ...\n",
    "\n",
    "## 添加新数据的一般步骤\n",
    "### 从医院那里下载数据，格式如下：\n",
    "    - Cyst\n",
    "        - patient_id\n",
    "            - check_id\n",
    "                - DICOM series\n",
    "        - ...\n",
    "    - ...\n",
    "### 接下来按照DICOM的序列的文件名的格式，分为0001~000x个子文件夹，使用split_dicom_series函数\n",
    "### 接下来人为的将0001~000x子文件夹命名为NC、ART、PV、PVH等格式\n",
    "### 接下来创建 SignificantLayers、MHD、Mask格式的子文件夹， 使用check_all_format函数\n",
    "### 将NC、ART、PV的DICOM序列转化为MHD格式的文件，使用conver_all_dir函数\n",
    "### 接下来，人为的标记每幅图像，Mask文件存在 Mask 文件夹中，命名方式是PhaseName.upper()_Mask.mhd，如果包含其他类型的病灶，则其他类型的病灶命名方式是PhaseName.upper()_LesionName.upper().mhd\n",
    "### 接下来将提取根据Mask文件提取显著层数据，存入SignificantLayers文件夹中"
   ]
  },
  {
   "cell_type": "code",
   "execution_count": 1,
   "metadata": {
    "collapsed": true
   },
   "outputs": [],
   "source": [
    "import os\n",
    "import numpy as np\n",
    "import shutil\n",
    "from glob import glob"
   ]
  },
  {
   "cell_type": "code",
   "execution_count": 17,
   "metadata": {
    "collapsed": true
   },
   "outputs": [],
   "source": [
    "run medicalImage.ipynb"
   ]
  },
  {
   "cell_type": "code",
   "execution_count": 3,
   "metadata": {
    "collapsed": true
   },
   "outputs": [],
   "source": [
    "def split_dicom_series(dir_path):\n",
    "    check_id = os.path.basename(dir_path)\n",
    "    patient_id = os.path.basename(os.path.dirname(dir_path))\n",
    "    prefix = patient_id + '-' + check_id\n",
    "    cur_index = 1;\n",
    "    print dir_path\n",
    "    while True:\n",
    "        cur_index_str = '%04d' % cur_index\n",
    "        file_paths = glob(os.path.join(dir_path, prefix + '-' + cur_index_str+'-*'))\n",
    "        if len(file_paths) == 0:\n",
    "            break\n",
    "        save_dir = os.path.join(dir_path, cur_index_str)\n",
    "        if not os.path.exists(save_dir):\n",
    "            os.mkdir(save_dir)\n",
    "        for file_path in file_paths:\n",
    "            shutil.move(\n",
    "                file_path,\n",
    "                os.path.join(\n",
    "                    save_dir, os.path.basename(file_path)\n",
    "                )\n",
    "            )\n",
    "        cur_index += 1\n",
    "        print cur_index_str"
   ]
  },
  {
   "cell_type": "code",
   "execution_count": 11,
   "metadata": {},
   "outputs": [
    {
     "name": "stdout",
     "output_type": "stream",
     "text": [
      "F:\\FNH\\FNH\\1026414\\3472586\n"
     ]
    }
   ],
   "source": [
    "split_dicom_series(\n",
    "    'F:\\\\FNH\\\\FNH\\\\1026414\\\\3472586'\n",
    ")"
   ]
  },
  {
   "cell_type": "code",
   "execution_count": 15,
   "metadata": {
    "collapsed": true
   },
   "outputs": [],
   "source": [
    "def split_all_pcid(dir_name):\n",
    "    patient_ids = os.listdir(dir_name)\n",
    "    for patient_id in patient_ids:\n",
    "        check_ids = os.listdir(os.path.join(dir_name, patient_id))\n",
    "        for check_id in check_ids:\n",
    "            split_dicom_series(os.path.join(dir_name, patient_id, check_id))"
   ]
  },
  {
   "cell_type": "code",
   "execution_count": 21,
   "metadata": {},
   "outputs": [
    {
     "name": "stdout",
     "output_type": "stream",
     "text": [
      "F:\\HEM\\HEM\\1011447\\3675387\n",
      "F:\\HEM\\HEM\\1100989\\3671713\n",
      "F:\\HEM\\HEM\\1510797\\3471963\n",
      "F:\\HEM\\HEM\\1691892\\3777607\n",
      "0001\n",
      "0002\n",
      "0003\n",
      "0004\n",
      "0005\n",
      "0006\n",
      "F:\\HEM\\HEM\\1920841\\3495821\n",
      "F:\\HEM\\HEM\\1945955\\3282452\n",
      "F:\\HEM\\HEM\\2390820\\3531368\n",
      "F:\\HEM\\HEM\\2439389\\3514941\n",
      "F:\\HEM\\HEM\\2452057\\3528388\n",
      "F:\\HEM\\HEM\\2723866\\3770829\n",
      "F:\\HEM\\HEM\\2835381\\3745302\n",
      "F:\\HEM\\HEM\\2920009\\3573265\n",
      "F:\\HEM\\HEM\\3186062\\3645214\n",
      "F:\\HEM\\HEM\\3275969\\3575777\n",
      "F:\\HEM\\HEM\\3295057\\3670528\n",
      "F:\\HEM\\HEM\\3329491\\3739733\n",
      "F:\\HEM\\HEM\\3475948\\3591129\n",
      "F:\\HEM\\HEM\\3535113\\3691092\n",
      "F:\\HEM\\HEM\\3674602\\3692500\n",
      "F:\\HEM\\HEM\\3723017\\3647711\n",
      "F:\\HEM\\HEM\\3819731\\3693746\n",
      "F:\\HEM\\HEM\\3819731\\ART\n",
      "F:\\HEM\\HEM\\3819731\\NC\n",
      "F:\\HEM\\HEM\\3819731\\PV\n",
      "F:\\HEM\\HEM\\3819731\\PVH\n",
      "F:\\HEM\\HEM\\3837602\\3516115\n",
      "F:\\HEM\\HEM\\3843010\\3739766\n",
      "F:\\HEM\\HEM\\3845498\\3526836\n",
      "F:\\HEM\\HEM\\3916006\\3626978\n",
      "F:\\HEM\\HEM\\3933321\\3650216\n",
      "F:\\HEM\\HEM\\3977301\\3746721\n",
      "F:\\HEM\\HEM\\4028365\\3788824\n",
      "F:\\HEM\\HEM\\792426\\3546610\n",
      "F:\\HEM\\HEM\\8126959\\3497605\n"
     ]
    }
   ],
   "source": [
    "split_all_pcid('F:\\\\HEM\\\\HEM\\\\')"
   ]
  },
  {
   "cell_type": "code",
   "execution_count": 3,
   "metadata": {
    "collapsed": true
   },
   "outputs": [],
   "source": [
    "def check_format(dir_name):\n",
    "    '''\n",
    "        判断该dir_name是否符合条件，具备所有的essential phase names\n",
    "    '''\n",
    "    essential_phase_names = ['NC', 'ART', 'PV']\n",
    "    for phase_name in essential_phase_names:\n",
    "        if not os.path.exists(os.path.join(dir_name, phase_name)):\n",
    "            print 'Not the format in ', dir_name\n",
    "            break"
   ]
  },
  {
   "cell_type": "code",
   "execution_count": 4,
   "metadata": {
    "collapsed": true
   },
   "outputs": [],
   "source": [
    "def check_all_format(dir_name):\n",
    "    '''\n",
    "        判断所有的dir_name是否符合条件\n",
    "    '''\n",
    "    patient_ids = os.listdir(dir_name)\n",
    "    for patient_id in patient_ids:\n",
    "        check_ids = os.listdir(os.path.join(dir_name, patient_id))\n",
    "        for check_id in check_ids:\n",
    "            check_format(os.path.join(dir_name, patient_id, check_id))"
   ]
  },
  {
   "cell_type": "code",
   "execution_count": 12,
   "metadata": {},
   "outputs": [
    {
     "name": "stdout",
     "output_type": "stream",
     "text": [
      "Not the format in  F:\\third_data\\METS\\2544579\\3494702\n",
      "Not the format in  F:\\third_data\\METS\\3560291\\3437977\n",
      "Not the format in  F:\\third_data\\METS\\3918800\\3673706\n"
     ]
    }
   ],
   "source": [
    "check_all_format('F:\\\\third_data\\\\METS\\\\')"
   ]
  },
  {
   "cell_type": "code",
   "execution_count": 13,
   "metadata": {
    "collapsed": true
   },
   "outputs": [],
   "source": [
    "def mk_dir(parent_dir, dir_name):\n",
    "    '''\n",
    "        在parent_dir 目录下创建名为dir_name的子文件夹\n",
    "    '''\n",
    "    if not os.path.exists(os.path.join(parent_dir, dir_name)):\n",
    "        os.mkdir(os.path.join(parent_dir, dir_name))"
   ]
  },
  {
   "cell_type": "code",
   "execution_count": 38,
   "metadata": {
    "collapsed": true
   },
   "outputs": [],
   "source": [
    "def make_all_dir(dir_name):\n",
    "    patient_ids = os.listdir(dir_name)\n",
    "    for patient_id in patient_ids:\n",
    "        check_ids = os.listdir(os.path.join(dir_name, patient_id))\n",
    "        for check_id in check_ids:\n",
    "            mk_dir(os.path.join(dir_name, patient_id, check_id), 'Mask')"
   ]
  },
  {
   "cell_type": "code",
   "execution_count": 40,
   "metadata": {
    "collapsed": true
   },
   "outputs": [],
   "source": [
    "make_all_dir('F:\\\\third_data\\\\ordered\\\\FNH')"
   ]
  },
  {
   "cell_type": "code",
   "execution_count": 33,
   "metadata": {
    "collapsed": true
   },
   "outputs": [],
   "source": [
    "def convert_DICOM2MHD(dir_name):\n",
    "    '''\n",
    "        将一个检查目录下面的DICOM序列变成MHD格式的文件\n",
    "    '''\n",
    "    essential_phase_names = ['NC', 'ART', 'PV']\n",
    "    for phase_name in essential_phase_names:\n",
    "        cur_dir = os.path.join(dir_name, phase_name)\n",
    "        save_path = os.path.join(dir_name, 'MHD', phase_name + '.mhd')\n",
    "        images = read_dicom_series(cur_dir)\n",
    "        save_mhd_image(images, save_path)\n",
    "        print 'saveing ', save_path"
   ]
  },
  {
   "cell_type": "code",
   "execution_count": 37,
   "metadata": {},
   "outputs": [
    {
     "name": "stdout",
     "output_type": "stream",
     "text": [
      "image type is  <type 'numpy.ndarray'>\n",
      "saveing  F:\\third_data\\ordered\\FNH\\3226933\\3502177\\MHD\\NC.mhd\n",
      "image type is  <type 'numpy.ndarray'>\n",
      "saveing  F:\\third_data\\ordered\\FNH\\3226933\\3502177\\MHD\\ART.mhd\n",
      "image type is  <type 'numpy.ndarray'>\n",
      "saveing  F:\\third_data\\ordered\\FNH\\3226933\\3502177\\MHD\\PV.mhd\n"
     ]
    }
   ],
   "source": [
    "convert_DICOM2MHD('F:\\\\third_data\\\\ordered\\\\FNH\\\\3226933\\\\3502177')"
   ]
  },
  {
   "cell_type": "code",
   "execution_count": 30,
   "metadata": {
    "collapsed": true
   },
   "outputs": [],
   "source": [
    "def conver_all_dir(dir_name):\n",
    "    patient_ids = os.listdir(dir_name)\n",
    "    for patient_id in patient_ids:\n",
    "        check_ids = os.listdir(os.path.join(dir_name, patient_id))\n",
    "        for check_id in check_ids:\n",
    "            convert_DICOM2MHD(os.path.join(dir_name, patient_id, check_id))"
   ]
  },
  {
   "cell_type": "code",
   "execution_count": 32,
   "metadata": {},
   "outputs": [
    {
     "name": "stdout",
     "output_type": "stream",
     "text": [
      "image type is  <type 'numpy.ndarray'>\n",
      "saveing  F:\\third_data\\ordered\\METS\\102067\\3513875\\MHD\\NC.mhd\n",
      "image type is  <type 'numpy.ndarray'>\n",
      "saveing  F:\\third_data\\ordered\\METS\\102067\\3513875\\MHD\\ART.mhd\n",
      "image type is  <type 'numpy.ndarray'>\n",
      "saveing  F:\\third_data\\ordered\\METS\\102067\\3513875\\MHD\\PV.mhd\n",
      "image type is  <type 'numpy.ndarray'>\n",
      "saveing  F:\\third_data\\ordered\\METS\\2058569\\3562470\\MHD\\NC.mhd\n",
      "image type is  <type 'numpy.ndarray'>\n",
      "saveing  F:\\third_data\\ordered\\METS\\2058569\\3562470\\MHD\\ART.mhd\n",
      "image type is  <type 'numpy.ndarray'>\n",
      "saveing  F:\\third_data\\ordered\\METS\\2058569\\3562470\\MHD\\PV.mhd\n",
      "image type is  <type 'numpy.ndarray'>\n",
      "saveing  F:\\third_data\\ordered\\METS\\2697013\\3594662\\MHD\\NC.mhd\n",
      "image type is  <type 'numpy.ndarray'>\n",
      "saveing  F:\\third_data\\ordered\\METS\\2697013\\3594662\\MHD\\ART.mhd\n",
      "image type is  <type 'numpy.ndarray'>\n",
      "saveing  F:\\third_data\\ordered\\METS\\2697013\\3594662\\MHD\\PV.mhd\n",
      "image type is  <type 'numpy.ndarray'>\n",
      "saveing  F:\\third_data\\ordered\\METS\\3180792\\3634403\\MHD\\NC.mhd\n",
      "image type is  <type 'numpy.ndarray'>\n",
      "saveing  F:\\third_data\\ordered\\METS\\3180792\\3634403\\MHD\\ART.mhd\n",
      "image type is  <type 'numpy.ndarray'>\n",
      "saveing  F:\\third_data\\ordered\\METS\\3180792\\3634403\\MHD\\PV.mhd\n",
      "image type is  <type 'numpy.ndarray'>\n",
      "saveing  F:\\third_data\\ordered\\METS\\3444732\\3412369\\MHD\\NC.mhd\n",
      "image type is  <type 'numpy.ndarray'>\n",
      "saveing  F:\\third_data\\ordered\\METS\\3444732\\3412369\\MHD\\ART.mhd\n",
      "image type is  <type 'numpy.ndarray'>\n",
      "saveing  F:\\third_data\\ordered\\METS\\3444732\\3412369\\MHD\\PV.mhd\n",
      "image type is  <type 'numpy.ndarray'>\n",
      "saveing  F:\\third_data\\ordered\\METS\\3579134\\3678605\\MHD\\NC.mhd\n",
      "image type is  <type 'numpy.ndarray'>\n",
      "saveing  F:\\third_data\\ordered\\METS\\3579134\\3678605\\MHD\\ART.mhd\n",
      "image type is  <type 'numpy.ndarray'>\n",
      "saveing  F:\\third_data\\ordered\\METS\\3579134\\3678605\\MHD\\PV.mhd\n",
      "image type is  <type 'numpy.ndarray'>\n",
      "saveing  F:\\third_data\\ordered\\METS\\3753587\\3418452\\MHD\\NC.mhd\n",
      "image type is  <type 'numpy.ndarray'>\n",
      "saveing  F:\\third_data\\ordered\\METS\\3753587\\3418452\\MHD\\ART.mhd\n",
      "image type is  <type 'numpy.ndarray'>\n",
      "saveing  F:\\third_data\\ordered\\METS\\3753587\\3418452\\MHD\\PV.mhd\n",
      "image type is  <type 'numpy.ndarray'>\n",
      "saveing  F:\\third_data\\ordered\\METS\\3819303\\3498622\\MHD\\NC.mhd\n",
      "image type is  <type 'numpy.ndarray'>\n",
      "saveing  F:\\third_data\\ordered\\METS\\3819303\\3498622\\MHD\\ART.mhd\n",
      "image type is  <type 'numpy.ndarray'>\n",
      "saveing  F:\\third_data\\ordered\\METS\\3819303\\3498622\\MHD\\PV.mhd\n",
      "image type is  <type 'numpy.ndarray'>\n",
      "saveing  F:\\third_data\\ordered\\METS\\3858875\\3546076\\MHD\\NC.mhd\n",
      "image type is  <type 'numpy.ndarray'>\n",
      "saveing  F:\\third_data\\ordered\\METS\\3858875\\3546076\\MHD\\ART.mhd\n",
      "image type is  <type 'numpy.ndarray'>\n",
      "saveing  F:\\third_data\\ordered\\METS\\3858875\\3546076\\MHD\\PV.mhd\n",
      "image type is  <type 'numpy.ndarray'>\n",
      "saveing  F:\\third_data\\ordered\\METS\\3906635\\3655552\\MHD\\NC.mhd\n",
      "image type is  <type 'numpy.ndarray'>\n",
      "saveing  F:\\third_data\\ordered\\METS\\3906635\\3655552\\MHD\\ART.mhd\n",
      "image type is  <type 'numpy.ndarray'>\n",
      "saveing  F:\\third_data\\ordered\\METS\\3906635\\3655552\\MHD\\PV.mhd\n",
      "image type is  <type 'numpy.ndarray'>\n",
      "saveing  F:\\third_data\\ordered\\METS\\3931611\\3649391\\MHD\\NC.mhd\n",
      "image type is  <type 'numpy.ndarray'>\n",
      "saveing  F:\\third_data\\ordered\\METS\\3931611\\3649391\\MHD\\ART.mhd\n",
      "image type is  <type 'numpy.ndarray'>\n",
      "saveing  F:\\third_data\\ordered\\METS\\3931611\\3649391\\MHD\\PV.mhd\n",
      "image type is  <type 'numpy.ndarray'>\n",
      "saveing  F:\\third_data\\ordered\\METS\\3950304\\3676346\\MHD\\NC.mhd\n",
      "image type is  <type 'numpy.ndarray'>\n",
      "saveing  F:\\third_data\\ordered\\METS\\3950304\\3676346\\MHD\\ART.mhd\n",
      "image type is  <type 'numpy.ndarray'>\n",
      "saveing  F:\\third_data\\ordered\\METS\\3950304\\3676346\\MHD\\PV.mhd\n",
      "image type is  <type 'numpy.ndarray'>\n",
      "saveing  F:\\third_data\\ordered\\METS\\4010699\\3756195\\MHD\\NC.mhd\n",
      "image type is  <type 'numpy.ndarray'>\n",
      "saveing  F:\\third_data\\ordered\\METS\\4010699\\3756195\\MHD\\ART.mhd\n",
      "image type is  <type 'numpy.ndarray'>\n",
      "saveing  F:\\third_data\\ordered\\METS\\4010699\\3756195\\MHD\\PV.mhd\n",
      "image type is  <type 'numpy.ndarray'>\n",
      "saveing  F:\\third_data\\ordered\\METS\\4034012\\3791638\\MHD\\NC.mhd\n",
      "image type is  <type 'numpy.ndarray'>\n",
      "saveing  F:\\third_data\\ordered\\METS\\4034012\\3791638\\MHD\\ART.mhd\n",
      "image type is  <type 'numpy.ndarray'>\n",
      "saveing  F:\\third_data\\ordered\\METS\\4034012\\3791638\\MHD\\PV.mhd\n",
      "image type is  <type 'numpy.ndarray'>\n",
      "saveing  F:\\third_data\\ordered\\METS\\4035339\\3797746\\MHD\\NC.mhd\n",
      "image type is  <type 'numpy.ndarray'>\n",
      "saveing  F:\\third_data\\ordered\\METS\\4035339\\3797746\\MHD\\ART.mhd\n",
      "image type is  <type 'numpy.ndarray'>\n",
      "saveing  F:\\third_data\\ordered\\METS\\4035339\\3797746\\MHD\\PV.mhd\n",
      "image type is  <type 'numpy.ndarray'>\n",
      "saveing  F:\\third_data\\ordered\\METS\\8157802\\3712767\\MHD\\NC.mhd\n",
      "image type is  <type 'numpy.ndarray'>\n",
      "saveing  F:\\third_data\\ordered\\METS\\8157802\\3712767\\MHD\\ART.mhd\n",
      "image type is  <type 'numpy.ndarray'>\n",
      "saveing  F:\\third_data\\ordered\\METS\\8157802\\3712767\\MHD\\PV.mhd\n",
      "image type is  <type 'numpy.ndarray'>\n",
      "saveing  F:\\third_data\\ordered\\METS\\8161642\\3759035\\MHD\\NC.mhd\n",
      "image type is  <type 'numpy.ndarray'>\n",
      "saveing  F:\\third_data\\ordered\\METS\\8161642\\3759035\\MHD\\ART.mhd\n",
      "image type is  <type 'numpy.ndarray'>\n",
      "saveing  F:\\third_data\\ordered\\METS\\8161642\\3759035\\MHD\\PV.mhd\n"
     ]
    }
   ],
   "source": [
    "conver_all_dir('F:\\\\third_data\\\\ordered\\\\METS')"
   ]
  },
  {
   "cell_type": "code",
   "execution_count": 46,
   "metadata": {
    "collapsed": true
   },
   "outputs": [],
   "source": [
    "def mv_SignificantLayer2Mask(dir_name):\n",
    "    cur_dir = os.path.join(dir_name, 'SignificantLayer')\n",
    "    names = os.listdir(cur_dir)\n",
    "    for name in names:\n",
    "        cur_path = os.path.join(cur_dir, name)\n",
    "        target_path = os.path.join(dir_name, 'Mask', name)\n",
    "        shutil.move(cur_path, target_path)\n",
    "def mv_all_dir(dir_name):\n",
    "    patient_ids = os.listdir(dir_name)\n",
    "    for patient_id in patient_ids:\n",
    "        check_ids = os.listdir(os.path.join(dir_name, patient_id))\n",
    "        for check_id in check_ids:\n",
    "            mv_SignificantLayer2Mask(os.path.join(dir_name, patient_id, check_id))\n",
    "# mv_all_dir('F:\\\\third_data\\\\ordered\\\\FNH')"
   ]
  },
  {
   "cell_type": "code",
   "execution_count": 13,
   "metadata": {},
   "outputs": [],
   "source": [
    "def extract_SignificantLayer(dir_name):\n",
    "    cur_dir = os.path.join(dir_name, 'SignificantLayer')\n",
    "    mhd_dir = os.path.join(dir_name, 'MHD')\n",
    "    mask_dir = os.path.join(dir_name, 'Mask')\n",
    "    names = glob(os.path.join(mask_dir, '*_Mask.mhd'))\n",
    "    for name in names:\n",
    "        name = os.path.basename(name)\n",
    "        phase_name = name.split('_Mask')[0]\n",
    "        file_path = os.path.join(mhd_dir, phase_name + '.mhd')\n",
    "        mhd_image = read_mhd_image(file_path)\n",
    "        mask_image = read_mhd_image(os.path.join(mask_dir, name))\n",
    "        zs, _, _ = np.where(mask_image != 0)\n",
    "        zs = list(set(zs))\n",
    "        for index, z in enumerate(zs):\n",
    "            mask_image_slice = mask_image[z, :, :]\n",
    "            image_slice = mhd_image[z, :, :]\n",
    "            save_mhd_image(image_slice, os.path.join(cur_dir, phase_name + '_Image_'+ str(index) + '.mhd'))\n",
    "            save_mhd_image(mask_image_slice, os.path.join(cur_dir, phase_name + '_Mask_'+ str(index) + '.mhd'))\n",
    "            print 'saveing ', os.path.join(cur_dir, phase_name + '_Mask_'+ str(index) + '.mhd')"
   ]
  },
  {
   "cell_type": "code",
   "execution_count": 14,
   "metadata": {
    "collapsed": true
   },
   "outputs": [],
   "source": [
    "def extract_all_dir(dir_name):\n",
    "    patient_ids = os.listdir(dir_name)\n",
    "    for patient_id in patient_ids:\n",
    "        check_ids = os.listdir(os.path.join(dir_name, patient_id))\n",
    "        for check_id in check_ids:\n",
    "            extract_SignificantLayer(os.path.join(dir_name, patient_id, check_id))"
   ]
  },
  {
   "cell_type": "code",
   "execution_count": 16,
   "metadata": {},
   "outputs": [
    {
     "name": "stdout",
     "output_type": "stream",
     "text": [
      "saveing  F:\\third_data\\ordered\\FNH\\1026414\\3472586\\SignificantLayer\\ART_Mask_0.mhd\n",
      "saveing  F:\\third_data\\ordered\\FNH\\1026414\\3472586\\SignificantLayer\\NC_Mask_0.mhd\n",
      "saveing  F:\\third_data\\ordered\\FNH\\1026414\\3472586\\SignificantLayer\\PV_Mask_0.mhd\n",
      "saveing  F:\\third_data\\ordered\\FNH\\2107239\\3676523\\SignificantLayer\\ART_Mask_0.mhd\n",
      "saveing  F:\\third_data\\ordered\\FNH\\2107239\\3676523\\SignificantLayer\\NC_Mask_0.mhd\n",
      "saveing  F:\\third_data\\ordered\\FNH\\2107239\\3676523\\SignificantLayer\\PV_Mask_0.mhd\n",
      "saveing  F:\\third_data\\ordered\\FNH\\2452057\\3528388\\SignificantLayer\\ART_Mask_0.mhd\n",
      "saveing  F:\\third_data\\ordered\\FNH\\2452057\\3528388\\SignificantLayer\\NC_Mask_0.mhd\n",
      "saveing  F:\\third_data\\ordered\\FNH\\2452057\\3528388\\SignificantLayer\\PV_Mask_0.mhd\n",
      "saveing  F:\\third_data\\ordered\\FNH\\2925508\\3379669\\SignificantLayer\\ART_Mask_0.mhd\n",
      "saveing  F:\\third_data\\ordered\\FNH\\2925508\\3379669\\SignificantLayer\\NC_Mask_0.mhd\n",
      "saveing  F:\\third_data\\ordered\\FNH\\2925508\\3379669\\SignificantLayer\\PV_Mask_0.mhd\n",
      "saveing  F:\\third_data\\ordered\\FNH\\3226933\\3502177\\SignificantLayer\\ART_Mask_0.mhd\n",
      "saveing  F:\\third_data\\ordered\\FNH\\3226933\\3502177\\SignificantLayer\\NC_Mask_0.mhd\n",
      "saveing  F:\\third_data\\ordered\\FNH\\3226933\\3502177\\SignificantLayer\\PV_Mask_0.mhd\n",
      "saveing  F:\\third_data\\ordered\\FNH\\3794610\\3461745\\SignificantLayer\\ART_Mask_0.mhd\n",
      "saveing  F:\\third_data\\ordered\\FNH\\3794610\\3461745\\SignificantLayer\\NC_Mask_0.mhd\n",
      "saveing  F:\\third_data\\ordered\\FNH\\3794610\\3461745\\SignificantLayer\\PV_Mask_0.mhd\n",
      "saveing  F:\\third_data\\ordered\\FNH\\3813466\\3483857\\SignificantLayer\\ART_Mask_0.mhd\n",
      "saveing  F:\\third_data\\ordered\\FNH\\3813466\\3483857\\SignificantLayer\\NC_Mask_0.mhd\n",
      "saveing  F:\\third_data\\ordered\\FNH\\3813466\\3483857\\SignificantLayer\\PV_Mask_0.mhd\n",
      "saveing  F:\\third_data\\ordered\\FNH\\3828227\\3518533\\SignificantLayer\\ART_Mask_0.mhd\n",
      "saveing  F:\\third_data\\ordered\\FNH\\3828227\\3518533\\SignificantLayer\\NC_Mask_0.mhd\n",
      "saveing  F:\\third_data\\ordered\\FNH\\3828227\\3518533\\SignificantLayer\\PV_Mask_0.mhd\n",
      "saveing  F:\\third_data\\ordered\\FNH\\3830329\\3673646\\SignificantLayer\\ART_Mask_0.mhd\n",
      "saveing  F:\\third_data\\ordered\\FNH\\3830329\\3673646\\SignificantLayer\\ART_Mask_1.mhd\n",
      "saveing  F:\\third_data\\ordered\\FNH\\3830329\\3673646\\SignificantLayer\\ART_Mask_2.mhd\n",
      "saveing  F:\\third_data\\ordered\\FNH\\3830329\\3673646\\SignificantLayer\\NC_Mask_0.mhd\n",
      "saveing  F:\\third_data\\ordered\\FNH\\3830329\\3673646\\SignificantLayer\\NC_Mask_1.mhd\n",
      "saveing  F:\\third_data\\ordered\\FNH\\3830329\\3673646\\SignificantLayer\\NC_Mask_2.mhd\n",
      "saveing  F:\\third_data\\ordered\\FNH\\3830329\\3673646\\SignificantLayer\\PV_Mask_0.mhd\n",
      "saveing  F:\\third_data\\ordered\\FNH\\3830329\\3673646\\SignificantLayer\\PV_Mask_1.mhd\n",
      "saveing  F:\\third_data\\ordered\\FNH\\3830329\\3673646\\SignificantLayer\\PV_Mask_2.mhd\n",
      "saveing  F:\\third_data\\ordered\\FNH\\3831159\\3518459\\SignificantLayer\\ART_Mask_0.mhd\n",
      "saveing  F:\\third_data\\ordered\\FNH\\3831159\\3518459\\SignificantLayer\\NC_Mask_0.mhd\n",
      "saveing  F:\\third_data\\ordered\\FNH\\3831159\\3518459\\SignificantLayer\\PV_Mask_0.mhd\n",
      "saveing  F:\\third_data\\ordered\\FNH\\3880417\\3573317\\SignificantLayer\\ART_Mask_0.mhd\n",
      "saveing  F:\\third_data\\ordered\\FNH\\3880417\\3573317\\SignificantLayer\\ART_Mask_1.mhd\n",
      "saveing  F:\\third_data\\ordered\\FNH\\3880417\\3573317\\SignificantLayer\\ART_Mask_2.mhd\n",
      "saveing  F:\\third_data\\ordered\\FNH\\3880417\\3573317\\SignificantLayer\\ART_Mask_3.mhd\n",
      "saveing  F:\\third_data\\ordered\\FNH\\3880417\\3573317\\SignificantLayer\\ART_Mask_4.mhd\n",
      "saveing  F:\\third_data\\ordered\\FNH\\3880417\\3573317\\SignificantLayer\\NC_Mask_0.mhd\n",
      "saveing  F:\\third_data\\ordered\\FNH\\3880417\\3573317\\SignificantLayer\\NC_Mask_1.mhd\n",
      "saveing  F:\\third_data\\ordered\\FNH\\3880417\\3573317\\SignificantLayer\\NC_Mask_2.mhd\n",
      "saveing  F:\\third_data\\ordered\\FNH\\3880417\\3573317\\SignificantLayer\\NC_Mask_3.mhd\n",
      "saveing  F:\\third_data\\ordered\\FNH\\3880417\\3573317\\SignificantLayer\\NC_Mask_4.mhd\n",
      "saveing  F:\\third_data\\ordered\\FNH\\3880417\\3573317\\SignificantLayer\\PV_Mask_0.mhd\n",
      "saveing  F:\\third_data\\ordered\\FNH\\3880417\\3573317\\SignificantLayer\\PV_Mask_1.mhd\n",
      "saveing  F:\\third_data\\ordered\\FNH\\3880417\\3573317\\SignificantLayer\\PV_Mask_2.mhd\n",
      "saveing  F:\\third_data\\ordered\\FNH\\3880417\\3573317\\SignificantLayer\\PV_Mask_3.mhd\n",
      "saveing  F:\\third_data\\ordered\\FNH\\3880417\\3573317\\SignificantLayer\\PV_Mask_4.mhd\n",
      "saveing  F:\\third_data\\ordered\\FNH\\3903904\\3607714\\SignificantLayer\\ART_Mask_0.mhd\n",
      "saveing  F:\\third_data\\ordered\\FNH\\3903904\\3607714\\SignificantLayer\\ART_Mask_1.mhd\n",
      "saveing  F:\\third_data\\ordered\\FNH\\3903904\\3607714\\SignificantLayer\\NC_Mask_0.mhd\n",
      "saveing  F:\\third_data\\ordered\\FNH\\3903904\\3607714\\SignificantLayer\\NC_Mask_1.mhd\n",
      "saveing  F:\\third_data\\ordered\\FNH\\3903904\\3607714\\SignificantLayer\\PV_Mask_0.mhd\n",
      "saveing  F:\\third_data\\ordered\\FNH\\3903904\\3607714\\SignificantLayer\\PV_Mask_1.mhd\n",
      "saveing  F:\\third_data\\ordered\\FNH\\392338\\3461714\\SignificantLayer\\ART_Mask_0.mhd\n",
      "saveing  F:\\third_data\\ordered\\FNH\\392338\\3461714\\SignificantLayer\\NC_Mask_0.mhd\n",
      "saveing  F:\\third_data\\ordered\\FNH\\392338\\3461714\\SignificantLayer\\PV_Mask_0.mhd\n",
      "saveing  F:\\third_data\\ordered\\FNH\\3938526\\3755036\\SignificantLayer\\ART_Mask_0.mhd\n",
      "saveing  F:\\third_data\\ordered\\FNH\\3938526\\3755036\\SignificantLayer\\NC_Mask_0.mhd\n",
      "saveing  F:\\third_data\\ordered\\FNH\\3938526\\3755036\\SignificantLayer\\PV_Mask_0.mhd\n",
      "saveing  F:\\third_data\\ordered\\FNH\\3940727\\3657366\\SignificantLayer\\ART_Mask_0.mhd\n",
      "saveing  F:\\third_data\\ordered\\FNH\\3940727\\3657366\\SignificantLayer\\NC_Mask_0.mhd\n",
      "saveing  F:\\third_data\\ordered\\FNH\\3940727\\3657366\\SignificantLayer\\PV_Mask_0.mhd\n",
      "saveing  F:\\third_data\\ordered\\FNH\\3961661\\3693188\\SignificantLayer\\ART_Mask_0.mhd\n",
      "saveing  F:\\third_data\\ordered\\FNH\\3961661\\3693188\\SignificantLayer\\NC_Mask_0.mhd\n",
      "saveing  F:\\third_data\\ordered\\FNH\\3961661\\3693188\\SignificantLayer\\PV_Mask_0.mhd\n",
      "saveing  F:\\third_data\\ordered\\FNH\\4014780\\3762234\\SignificantLayer\\ART_Mask_0.mhd\n",
      "saveing  F:\\third_data\\ordered\\FNH\\4014780\\3762234\\SignificantLayer\\NC_Mask_0.mhd\n",
      "saveing  F:\\third_data\\ordered\\FNH\\4014780\\3762234\\SignificantLayer\\PV_Mask_0.mhd\n",
      "saveing  F:\\third_data\\ordered\\FNH\\4029961\\3789964\\SignificantLayer\\ART_Mask_0.mhd\n",
      "saveing  F:\\third_data\\ordered\\FNH\\4029961\\3789964\\SignificantLayer\\NC_Mask_0.mhd\n",
      "saveing  F:\\third_data\\ordered\\FNH\\4029961\\3789964\\SignificantLayer\\PV_Mask_0.mhd\n",
      "saveing  F:\\third_data\\ordered\\FNH\\4031421\\3792171\\SignificantLayer\\ART_Mask_0.mhd\n",
      "saveing  F:\\third_data\\ordered\\FNH\\4031421\\3792171\\SignificantLayer\\NC_Mask_0.mhd\n",
      "saveing  F:\\third_data\\ordered\\FNH\\4031421\\3792171\\SignificantLayer\\PV_Mask_0.mhd\n"
     ]
    }
   ],
   "source": [
    "extract_all_dir('F:\\\\third_data\\\\ordered\\\\FNH')"
   ]
  },
  {
   "cell_type": "code",
   "execution_count": null,
   "metadata": {
    "collapsed": true
   },
   "outputs": [],
   "source": [
    "def mv_SL2target(dir_name, save_dir):\n",
    "    '''\n",
    "        将dir_name文件夹下面的SignificantLayer文件夹的数据按照一定格式拷贝到指定目录中\n",
    "        一定格式：一般是SignificantLayer文件夹下面创建一个子文件夹命名方式patientid_checkid_lesionid_sliceid_typeid\n",
    "    '''\n",
    "    checkid = os.path.basename(dir_name)\n",
    "    patientid = os.path.basename(os.path.dirname(dir_name))\n",
    "    typename = os.path.basename(os.path.dirname(os.path.dirname(dir_name)))\n",
    "    typeid = return_typeid_byname(typename)\n",
    "    cur_path = os.path.join(dir_name, 'SignificantLayer')\n",
    "    \n",
    "    slice_num = len(glob(os.path.join(cur_path, 'ART_Mask_*.mhd')))\n",
    "    for sliceid in range(slice_num):\n",
    "        target_dir = os.path.join(save_dir, patientid + '_' + checkid + '_' + '0' + '_' + str(sliceid) + '_' + str(typeid))\n",
    "        if not os.path.exists(target_dir):\n",
    "            os.mkdir(target_dir)\n",
    "        names = os.listdir(os.path.join(cur_path, '*_'+str(sliceid)+'*'))\n",
    "        for name in names:\n",
    "            shutil.copy(\n",
    "                os.path.join(cur_path, name),\n",
    "                os.path.join(target_dir, name)\n",
    "            )\n",
    "        print target_dir, ' finish copying'"
   ]
  }
 ],
 "metadata": {
  "kernelspec": {
   "display_name": "Python 2",
   "language": "python",
   "name": "python2"
  },
  "language_info": {
   "codemirror_mode": {
    "name": "ipython",
    "version": 2
   },
   "file_extension": ".py",
   "mimetype": "text/x-python",
   "name": "python",
   "nbconvert_exporter": "python",
   "pygments_lexer": "ipython2",
   "version": "2.7.13"
  }
 },
 "nbformat": 4,
 "nbformat_minor": 2
}
