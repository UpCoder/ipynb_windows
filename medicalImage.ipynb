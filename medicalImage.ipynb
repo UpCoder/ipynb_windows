{
 "cells": [
  {
   "cell_type": "code",
   "execution_count": 19,
   "metadata": {
    "collapsed": true
   },
   "outputs": [],
   "source": [
    "import SimpleITK as itk\n",
    "import pydicom\n",
    "import cv2\n",
    "from PIL import Image\n",
    "typenames = ['CYST', 'FNH', 'HCC', 'HEM', 'METS']\n",
    "typeids = [0, 1, 2, 3, 4]\n",
    "# 读取文件序列\n",
    "def read_dicom_series(dir_name):\n",
    "    reader=itk.ImageSeriesReader()\n",
    "    dicom_series=reader.GetGDCMSeriesFileNames(dir_name)\n",
    "    reader.SetFileNames(dicom_series)\n",
    "    images=reader.Execute()\n",
    "    image_array = itk.GetArrayFromImage(images)\n",
    "    return image_array\n",
    "\n",
    "# 读取单个DICOM文件\n",
    "def read_dicom_file(file_name):\n",
    "    header = pydicom.read_file(file_name)\n",
    "    image = header.pixel_array\n",
    "    image = header.RescaleSlope * image + header.RescaleIntercept\n",
    "    return image\n",
    "\n",
    "# 读取mhd文件\n",
    "def read_mhd_image(file_path):\n",
    "    header = itk.ReadImage(file_path)\n",
    "    image = itk.GetArrayFromImage(header)\n",
    "    return np.array(image)\n",
    "\n",
    "\n",
    "# 保存mhd文件\n",
    "def save_mhd_image(image, file_name):\n",
    "    header = itk.GetImageFromArray(image)\n",
    "    itk.WriteImage(header, file_name)\n",
    "    \n",
    "# 根据文件名返回期项名\n",
    "def return_phasename(file_name):\n",
    "    phasenames = ['NC', 'ART', 'PV']\n",
    "    for phasename in phasenames:\n",
    "        if file_name.find(phasename) != -1:\n",
    "            return phasename\n",
    "# 读取DICOM文件中包含的病例ID信息\n",
    "def read_patientId(dicom_file_path):\n",
    "    ds = pydicom.read_file(dicom_file_path)\n",
    "    return ds.PatientID\n",
    "# 返回病灶类型和ID的字典类型的数据 key是typename value是typeid\n",
    "def return_type_nameid():\n",
    "    res = {}\n",
    "    res['CYST'] = 0\n",
    "    res['FNH'] = 1\n",
    "    res['HCC'] = 2\n",
    "    res['HEM'] = 3\n",
    "    res['METS'] = 4\n",
    "    return res\n",
    "\n",
    "# 返回病灶类型ID和名称的字典类型的数据 key是typeid value是typename\n",
    "def return_type_idname():\n",
    "    res = {}\n",
    "    res[0] = 'CYST'\n",
    "    res[1] = 'FNH'\n",
    "    res[2] = 'HCC'\n",
    "    res[3] = 'HEM'\n",
    "    res[4] = 'METS'\n",
    "    return res\n",
    "\n",
    "# 根据病灶类型的ID返回类型的字符串\n",
    "def return_typename_byid(typeid):\n",
    "    idname_dict = return_type_idname()\n",
    "    return idname_dict[typeid]\n",
    "\n",
    "# 根据病灶类型的name返回id的字符串\n",
    "def return_typeid_byname(typename):\n",
    "    nameid_dict = return_type_nameid()\n",
    "    return nameid_dict[typename]\n",
    "\n",
    "# 填充图像\n",
    "def fill_region(image):\n",
    "    # image.show()\n",
    "    from scipy import ndimage\n",
    "    image = ndimage.binary_fill_holes(image).astype(np.uint8)\n",
    "    return image\n",
    "\n",
    "# 图像膨胀\n",
    "def image_expand(image, size):\n",
    "    kernel = cv2.getStructuringElement(cv2.MORPH_ELLIPSE, (size, size))\n",
    "    image = cv2.dilate(image, kernel)\n",
    "    return image\n",
    "\n",
    "# 将一个矩阵保存为图片\n",
    "def save_image(image_arr, save_path):\n",
    "    image = Image.fromarray(np.asarray(image_arr, np.uint8))\n",
    "    image.save(save_path)\n",
    "    \n",
    "def show_image(image):\n",
    "    img = Image.fromarray(image)\n",
    "    img.show()"
   ]
  },
  {
   "cell_type": "code",
   "execution_count": 10,
   "metadata": {},
   "outputs": [
    {
     "data": {
      "text/plain": [
       "'3091814'"
      ]
     },
     "execution_count": 10,
     "metadata": {},
     "output_type": "execute_result"
    }
   ],
   "source": [
    "read_patientId('E:\\\\Resource\\\\DataSet\\\\MedicalImage\\\\HCC\\\\037-3091814\\\\ART\\\\3091814_2413430_00003_00001_2213_W250L50.DCM')"
   ]
  },
  {
   "cell_type": "code",
   "execution_count": null,
   "metadata": {
    "collapsed": true
   },
   "outputs": [],
   "source": []
  }
 ],
 "metadata": {
  "kernelspec": {
   "display_name": "Python 2",
   "language": "python",
   "name": "python2"
  },
  "language_info": {
   "codemirror_mode": {
    "name": "ipython",
    "version": 2
   },
   "file_extension": ".py",
   "mimetype": "text/x-python",
   "name": "python",
   "nbconvert_exporter": "python",
   "pygments_lexer": "ipython2",
   "version": "2.7.13"
  }
 },
 "nbformat": 4,
 "nbformat_minor": 2
}
