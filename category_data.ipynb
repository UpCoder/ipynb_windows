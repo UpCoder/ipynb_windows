{
 "cells": [
  {
   "cell_type": "markdown",
   "metadata": {},
   "source": [
    "# 本文件的函数主要用来处理category的数据"
   ]
  },
  {
   "cell_type": "code",
   "execution_count": 8,
   "metadata": {},
   "outputs": [],
   "source": [
    "run medicalImage.ipynb"
   ]
  },
  {
   "cell_type": "code",
   "execution_count": 9,
   "metadata": {
    "collapsed": true
   },
   "outputs": [],
   "source": [
    "import os\n",
    "import shutil\n",
    "from glob import glob"
   ]
  },
  {
   "cell_type": "code",
   "execution_count": null,
   "metadata": {
    "collapsed": true
   },
   "outputs": [],
   "source": [
    "def check_maskfileformat(dir_name):\n",
    "    '''\n",
    "        检查mask文件夹下面的数据命名是否符合规范\n",
    "        规范PhaseName_Mask_lesionId.mask\n",
    "        如果不符合规范的话，重命名该文件\n",
    "    '''\n",
    "    mask_path = os.path.join(dir_name, 'TumorMask')\n",
    "    paths = glob(os.path.join(mask_path, '*.mhd'))\n",
    "    for path in paths:\n",
    "        phasename = return_phasename(os.path.basename(name))"
   ]
  }
 ],
 "metadata": {
  "kernelspec": {
   "display_name": "Python 2",
   "language": "python",
   "name": "python2"
  },
  "language_info": {
   "codemirror_mode": {
    "name": "ipython",
    "version": 2
   },
   "file_extension": ".py",
   "mimetype": "text/x-python",
   "name": "python",
   "nbconvert_exporter": "python",
   "pygments_lexer": "ipython2",
   "version": "2.7.13"
  }
 },
 "nbformat": 4,
 "nbformat_minor": 2
}
